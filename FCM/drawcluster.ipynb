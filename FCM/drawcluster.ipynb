{
 "cells": [
  {
   "cell_type": "code",
   "execution_count": 12,
   "metadata": {},
   "outputs": [],
   "source": [
    "import pandas as pd\n",
    "import numpy as np\n",
    "import matplotlib.pyplot as plt"
   ]
  },
  {
   "cell_type": "code",
   "execution_count": 13,
   "metadata": {},
   "outputs": [],
   "source": [
    "get_index = []\n",
    "get_value = []"
   ]
  },
  {
   "cell_type": "code",
   "execution_count": 14,
   "metadata": {},
   "outputs": [],
   "source": [
    "def get_order(m_equal,stop,count = 0):                      \n",
    "    \"\"\"\n",
    "    获得隶属度大小排序与对应索引\n",
    "    \"\"\"\n",
    "    c = np.triu(m_equal) - np.diag(np.diag(m_equal)) #对称函数只需考虑倒三角\n",
    "\n",
    "    i, j = argmax(c)\n",
    "    get_index.extend([[i, j]])\n",
    "    get_value.append(c[i, j])\n",
    "    c[i,j] = 0                                      #将已取元素设为最小值，再次获取元素\n",
    "    \n",
    "    count += 1                                      #判断迭代是否继续进行\n",
    "    if count < stop:\n",
    "        return get_order(c,stop,count)\n",
    "    else:\n",
    "        return get_index, get_value"
   ]
  },
  {
   "cell_type": "code",
   "execution_count": null,
   "metadata": {},
   "outputs": [],
   "source": [
    "    \n",
    "#     temp1 = np.sort(c, axis = 0)\n",
    "#     temp2 = np.argsort(c, axis = 0)\n",
    "#     temp3 = np.sort(temp1)\n",
    "#     temp4 = np.argsort(temp1)                               #对元素及其索引按大小顺序进行排列\n",
    "\n",
    "#     a = temp4[-1, -1]\n",
    "#     b = temp2[-1, a]                                        #对角阵只需考虑行号小于列号的元素\n",
    "#     i = min(a, b)\n",
    "#     j = max(a, b)"
   ]
  },
  {
   "cell_type": "code",
   "execution_count": 15,
   "metadata": {},
   "outputs": [],
   "source": [
    "def index_value(m_equal,n):\n",
    "    \"\"\"\n",
    "    获得各个属性对应的、第一次应该被聚为一类的隶属度\n",
    "    \"\"\"\n",
    "    stop = np.cumsum(np.arange(n))[-1]                  #计算循环次数\n",
    "    get_index, get_value = get_order(m_equal, stop)     #获得隶属度大小关系与对应索引\n",
    "\n",
    "    value = list(set(get_value))                       #将元素重复值删除并排序\n",
    "    value.sort(reverse = True)\n",
    "\n",
    "    index = [[] for i in range(len(value))]            #按排序后的元素值获取其对应的属性号\n",
    "    for i in range(len(value)):\n",
    "        for j in range(len(get_index)):\n",
    "            if get_value[j] == value[i]:\n",
    "                index[i] += get_index[j]\n",
    "                index[i] = list(set(index[i]))\n",
    "                index[i].sort()\n",
    "\n",
    "    return index, value"
   ]
  },
  {
   "cell_type": "code",
   "execution_count": 16,
   "metadata": {},
   "outputs": [],
   "source": [
    "def get_index_rev(index):\n",
    "    \"\"\"\n",
    "    由于列表是可变对象，需要不断变化获得列表的逆序\n",
    "    \"\"\"\n",
    "    index_rev = []\n",
    "    index.reverse()\n",
    "    for x in index:\n",
    "        index_rev.append(x)\n",
    "    index.reverse()\n",
    "    return index_rev"
   ]
  },
  {
   "cell_type": "code",
   "execution_count": 17,
   "metadata": {},
   "outputs": [],
   "source": [
    "def get_xticks(m_equal,n,ix):\n",
    "    index, value = index_value(m_equal,n)\n",
    "    index_rev = get_index_rev(index)\n",
    "    xticks = [index_rev[0]]                             #聚类图反过来就是分类图，根据分类的思想，将较少的元素或较小\n",
    "                                                        #的树放在右边，才能保证画图时不出现交叉，得到各属性出现的顺序\n",
    "    for i in range(1,len(index_rev)):\n",
    "        flag = False\n",
    "        for j in range(len(xticks)):\n",
    "            if set(index_rev[i]) <= set(xticks[j]):\n",
    "                x = list(set(xticks[j]) - set(index_rev[i]))\n",
    "                if x != []:\n",
    "                    if len(x) < len(index_rev[i]):\n",
    "                        xticks.insert(j+1, x)\n",
    "                        xticks[j] = index_rev[i]\n",
    "                    else:\n",
    "                        xticks.insert(j+1, index_rev[i])\n",
    "                        xticks[j] = x\n",
    "                flag = True\n",
    "                break\n",
    "        if flag == False:\n",
    "            xticks.append(index_rev[i])\n",
    "    \n",
    "    xticks_label = []                            #将排列好的属性与画图时的真实坐标生成一个字典\n",
    "    for x in xticks:\n",
    "        xticks_label += x\n",
    "    \n",
    "    \n",
    "    dict = {}\n",
    "    for keys, values in zip(xticks_label,ix):\n",
    "        dict[keys] = values\n",
    "\n",
    "    return xticks_label, dict"
   ]
  },
  {
   "cell_type": "code",
   "execution_count": 18,
   "metadata": {},
   "outputs": [],
   "source": [
    "def draw(m_equal,n):\n",
    "\n",
    "    x = []\n",
    "    y = []\n",
    "    ix = list(range(39))\n",
    "\n",
    "    index, value = index_value(m_equal,n)\n",
    "    print('Done')\n",
    "    index_rev = get_index_rev(index)\n",
    "    print('Done')\n",
    "    xticks_label, dict = get_xticks(m_equal,n,ix)\n",
    "    print('Done')\n",
    "    \n",
    "    fig = plt.figure(figsize = (12,6))\n",
    "    ax = fig.add_subplot(111)\n",
    "    \n",
    "    point_y = []\n",
    "    for i in xticks_label:\n",
    "        for j in range(len(index)):\n",
    "            if i in index[j]:\n",
    "                x.append(dict[i])\n",
    "                y.append(1)\n",
    "                x.append(dict[i])\n",
    "                y.append(value[j])\n",
    "                point_y.append(value[j])\n",
    "                ax.plot(x, y)\n",
    "                x = []\n",
    "                y = []\n",
    "                break\n",
    "\n",
    "\n",
    "    a = ax.xaxis.set_ticks_position('top')\n",
    "    a = ax.set_xticklabels(xticks_label)\n",
    "    a = ax.set_xticks(ix)\n",
    "    plt.show()"
   ]
  }
 ],
 "metadata": {
  "kernelspec": {
   "display_name": "Python 3",
   "language": "python",
   "name": "python3"
  },
  "language_info": {
   "codemirror_mode": {
    "name": "ipython",
    "version": 3
   },
   "file_extension": ".py",
   "mimetype": "text/x-python",
   "name": "python",
   "nbconvert_exporter": "python",
   "pygments_lexer": "ipython3",
   "version": "3.6.3"
  }
 },
 "nbformat": 4,
 "nbformat_minor": 2
}
