{
 "cells": [
  {
   "cell_type": "markdown",
   "metadata": {},
   "source": [
    "准备工作"
   ]
  },
  {
   "cell_type": "code",
   "execution_count": 25,
   "metadata": {},
   "outputs": [],
   "source": [
    "import random\n",
    "import math\n",
    "import numpy as np\n",
    "import pandas as pd\n",
    "import matplotlib.pyplot as plt"
   ]
  },
  {
   "cell_type": "markdown",
   "metadata": {},
   "source": [
    "预处理"
   ]
  },
  {
   "cell_type": "code",
   "execution_count": 26,
   "metadata": {},
   "outputs": [],
   "source": [
    "data = pd.read_excel('D:\\\\Code\\\\BP\\\\GDP.xls', skip_footer = 2, skiprows = [0,1,2,3])\n",
    "temp1 = data.iloc[:, 0:2]\n",
    "temp1.iloc[:, 0] = temp1.iloc[:, 0].str.replace('年','')         #将原始数据中“xxxx年”的“年”去掉\n",
    "temp1.iloc[:, 1] = temp1.iloc[:, 1].str.replace(',','')          #将数字的分隔符去掉\n",
    "temp2 = temp1.iloc[:, 0:2].astype(float)                         #仅取年份与GDP\n",
    "temp3 = np.array(temp2)                                          #将 dataframe 转为 array\n",
    "orig_inputs = np.array(temp3[:,0])\n",
    "orig_target = np.array(temp3[:,1])"
   ]
  },
  {
   "cell_type": "code",
   "execution_count": 27,
   "metadata": {},
   "outputs": [],
   "source": [
    "year_max = np.max(orig_inputs)\n",
    "year_min = np.min(orig_inputs)\n",
    "inputs = (orig_inputs - year_min)/(year_max - year_min)\n",
    "\n",
    "target_max = np.max(orig_target)\n",
    "target_min = np.min(orig_target)\n",
    "target = (orig_target - target_min)/(target_max - target_min)\n",
    "\n",
    "eta = 0.9"
   ]
  },
  {
   "cell_type": "code",
   "execution_count": 28,
   "metadata": {},
   "outputs": [],
   "source": [
    "orig_test = np.arange(1984, 2019)\n",
    "tests = (orig_test - year_min)/(year_max - year_min)"
   ]
  },
  {
   "cell_type": "code",
   "execution_count": 29,
   "metadata": {},
   "outputs": [],
   "source": [
    "def init_matrix(n, m):\n",
    "    \"\"\"\n",
    "    用于初始化权系数，取值为（-1，1）的随机数\n",
    "    \"\"\"\n",
    "    matrix = np.empty((n,m))\n",
    "    for i in range(n):\n",
    "        for j in range(m):\n",
    "            matrix[i][j] = np.random.uniform(-1, 1)\n",
    "    return matrix"
   ]
  },
  {
   "cell_type": "code",
   "execution_count": 30,
   "metadata": {},
   "outputs": [],
   "source": [
    "def sigmoid(x):\n",
    "    n = np.shape(x)[0]\n",
    "    for i in range(n):\n",
    "        temp = float('inf')\n",
    "        temp = 1 / (1 + math.exp(-x[i]))\n",
    "        x[i] = temp\n",
    "    return x"
   ]
  },
  {
   "cell_type": "code",
   "execution_count": 31,
   "metadata": {},
   "outputs": [],
   "source": [
    "def cal_out(x1, x2):\n",
    "    temp = np.dot(x1, x2)\n",
    "    out = sigmoid(temp)\n",
    "    return out"
   ]
  },
  {
   "cell_type": "code",
   "execution_count": 32,
   "metadata": {},
   "outputs": [],
   "source": [
    "def decode(x):\n",
    "    result = x * (target_max - target_min) + target_min\n",
    "    return result"
   ]
  },
  {
   "cell_type": "code",
   "execution_count": 33,
   "metadata": {},
   "outputs": [],
   "source": [
    "def bp(w, v, eta, inputs, target, hid_out, output):\n",
    "    a, b = np.shape(w)\n",
    "    c, d = np.shape(v)\n",
    "    delta_j = []\n",
    "    new_w = np.empty((a,b))\n",
    "    new_v = np.empty((c,d))\n",
    "    \n",
    "    for j in range(a):\n",
    "        temp2 = 0\n",
    "        for k in range(b):\n",
    "            temp1 = 0\n",
    "            delta_k = (target[k] - output[k]) * output[k] * (1-output[k])\n",
    "            new_w[j][k] = w[j][k] + eta * delta_k * hid_out[j]\n",
    "            temp1 += (delta_k * new_w[j][k])\n",
    "        temp2 = temp1 * hid_out[j] * (1 - hid_out[j])\n",
    "        delta_j.append(temp2)\n",
    "    \n",
    "    for i in range(c):\n",
    "        for j in range(d):\n",
    "            new_v[i][j] = v[i][j] + eta * delta_j[j] * inputs[i]\n",
    "            \n",
    "    return new_w, new_v"
   ]
  },
  {
   "cell_type": "code",
   "execution_count": 34,
   "metadata": {},
   "outputs": [],
   "source": [
    "def train(inputs, target, eta, generation, n_hidden = 6):\n",
    "    \n",
    "    n_inputs = np.shape(inputs)[0]\n",
    "    v = init_matrix(n_inputs, n_hidden)\n",
    "    w = init_matrix(n_hidden, n_inputs)       #初始化权系数\n",
    "    \n",
    "    for i in range(generation):\n",
    "        hid_out = cal_out(inputs, v)\n",
    "        output = cal_out(hid_out, w)\n",
    "        w, v = bp(w, v, eta, inputs, target, hid_out, output)\n",
    "        result = decode(output)\n",
    "\n",
    "    return w, v, output, result"
   ]
  },
  {
   "cell_type": "code",
   "execution_count": 35,
   "metadata": {},
   "outputs": [],
   "source": [
    "def test(w, v, tests):\n",
    "    t_hid_out = cal_out(tests, v)\n",
    "    t_output = cal_out(t_hid_out, w)\n",
    "    t_result = decode(t_output)\n",
    "    return t_result"
   ]
  },
  {
   "cell_type": "code",
   "execution_count": 41,
   "metadata": {},
   "outputs": [
    {
     "data": {
      "text/plain": [
       "array([   343.17962978,    344.02573699,    335.73589373,    340.87528424,\n",
       "          357.0854897 ,    365.85308108,    404.06685619,    408.71520826,\n",
       "          443.82048974,    457.6176839 ,    498.13599568,    634.08304617,\n",
       "          837.47236652,   1126.23482653,   1312.76650969,   1507.75308641,\n",
       "         1593.47391915,   1662.00740971,   1789.21846964,   1974.11663618,\n",
       "         2232.799077  ,   2554.55553776,   3033.13755973,   3465.94772091,\n",
       "         3905.0959386 ,   4673.90374422,   5792.41934941,   6528.21347568,\n",
       "         7894.91375474,  10012.67487959,  11408.21671469,  12656.80343176,\n",
       "        14265.29396268,  15717.24810954,  17331.31361675])"
      ]
     },
     "execution_count": 41,
     "metadata": {},
     "output_type": "execute_result"
    }
   ],
   "source": [
    "generation = 1000\n",
    "train_w, train_v, output, result = train(inputs, target, eta, generation)\n",
    "result"
   ]
  },
  {
   "cell_type": "code",
   "execution_count": 40,
   "metadata": {},
   "outputs": [
    {
     "data": {
      "text/plain": [
       "array([ 14304.20174169,  15760.85903471,  17321.39378726])"
      ]
     },
     "execution_count": 40,
     "metadata": {},
     "output_type": "execute_result"
    }
   ],
   "source": [
    "t_result = test(train_w, train_v, tests)\n",
    "t_result[-3:]"
   ]
  },
  {
   "cell_type": "code",
   "execution_count": 43,
   "metadata": {},
   "outputs": [
    {
     "data": {
      "text/plain": [
       "[<matplotlib.lines.Line2D at 0x1e825bdd828>]"
      ]
     },
     "execution_count": 43,
     "metadata": {},
     "output_type": "execute_result"
    },
    {
     "data": {
      "image/png": "[encoded data removed]",
      "text/plain": [
       "<matplotlib.figure.Figure at 0x1e825bd3780>"
      ]
     },
     "metadata": {},
     "output_type": "display_data"
    }
   ],
   "source": [
    "plt.plot(orig_inputs,orig_target)\n",
    "plt.plot(orig_inputs,result)\n",
    "plt.plot(orig_test,t_result)"
   ]
  },
  {
   "cell_type": "code",
   "execution_count": 38,
   "metadata": {},
   "outputs": [
    {
     "data": {
      "text/plain": [
       "[<matplotlib.lines.Line2D at 0x1e824009080>]"
      ]
     },
     "execution_count": 38,
     "metadata": {},
     "output_type": "execute_result"
    },
    {
     "data": {
      "image/png": "[encoded data removed]",
      "text/plain": [
       "<matplotlib.figure.Figure at 0x1e824009f98>"
      ]
     },
     "metadata": {},
     "output_type": "display_data"
    }
   ],
   "source": [
    "plt.plot(inputs,target)\n",
    "plt.plot(inputs,output)"
   ]
  },
  {
   "cell_type": "code",
   "execution_count": 44,
   "metadata": {},
   "outputs": [
    {
     "data": {
      "text/plain": [
       "[<matplotlib.lines.Line2D at 0x1e8254c7d68>]"
      ]
     },
     "execution_count": 44,
     "metadata": {},
     "output_type": "execute_result"
    },
    {
     "data": {
      "image/png": "[encoded data removed]",
      "text/plain": [
       "<matplotlib.figure.Figure at 0x1e82511c4e0>"
      ]
     },
     "metadata": {},
     "output_type": "display_data"
    }
   ],
   "source": [
    "plt.plot(orig_test, t_result)"
   ]
  }
 ],
 "metadata": {
  "kernelspec": {
   "display_name": "Python 3",
   "language": "python",
   "name": "python3"
  },
  "language_info": {
   "codemirror_mode": {
    "name": "ipython",
    "version": 3
   },
   "file_extension": ".py",
   "mimetype": "text/x-python",
   "name": "python",
   "nbconvert_exporter": "python",
   "pygments_lexer": "ipython3",
   "version": "3.6.3"
  }
 },
 "nbformat": 4,
 "nbformat_minor": 2
}
