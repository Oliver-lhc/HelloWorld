{
 "cells": [
  {
   "cell_type": "code",
   "execution_count": 20,
   "metadata": {},
   "outputs": [],
   "source": [
    "class duck:\n",
    "    \n",
    "    __oop = 'Everything is an object'           #类变量\n",
    "    animal = '这是个类变量'\n",
    "    \n",
    "    def __init__(self,feet_num):                #构造函数和成员变量\n",
    "        self.feather = True                     #成员变量必须有self，否则只是函数的局部变量\n",
    "        self.feet_num = feet_num\n",
    "    \n",
    "    def func1(self):                            #成员函数必须有self\n",
    "        print(self.feet_num)                    #访问成员变量一定要有self\n",
    "        print(self.animal,duck.animal)\n",
    "        try:\n",
    "            print(animal)\n",
    "        except:\n",
    "            print(\"访问成员变量一定要有self\")\n",
    "        \n",
    "    @staticmethod                               #静态方法可以不用self\n",
    "    def static_fun(x):\n",
    "        print(x,duck.animal,duck.__oop)         #静态方法对于参数无需前缀静态方法访问类变量需要类名.变量名，不能使用self\n",
    "        \n",
    "    @classmethod\n",
    "    def cls_fun(cls,x):\n",
    "        print(x,cls.animal,cls.__oop)           #类方法对于参数无需前缀，对于类变量需cls/类名.变量名，不能使用self\n",
    "        \n",
    "    @property\n",
    "    def oop(self):                              #要有self\n",
    "        return duck.__oop\n",
    "    \n",
    "    @oop.setter\n",
    "    def oop(self, value):                       #同名\n",
    "        duck.__oop = value\n",
    "        print('OK') \n",
    "\n",
    "instance = duck(2)     #实例化"
   ]
  },
  {
   "cell_type": "markdown",
   "metadata": {},
   "source": [
    "### 类变量和成员变量的区别"
   ]
  },
  {
   "cell_type": "code",
   "execution_count": 17,
   "metadata": {},
   "outputs": [
    {
     "name": "stdout",
     "output_type": "stream",
     "text": [
      "这是个类变量\n",
      "这是个类变量\n",
      "True\n",
      "2\n",
      "这是个类变量 这是个类变量\n",
      "访问成员变量一定要有self\n"
     ]
    }
   ],
   "source": [
    "#类变量访问方式，可用对象.变量和类.变量\n",
    "print(duck.animal)\n",
    "print(instance.animal)\n",
    "#成员变量只能用对象.变量\n",
    "#print(duck.feather)  #AttributeError: type object 'duck' has no attribute 'feather'\n",
    "print(instance.feather)\n",
    "\n",
    "#在类中定义方法访问类变量和成员变量，要self/类名.变量\n",
    "instance.func1()"
   ]
  },
  {
   "cell_type": "code",
   "execution_count": 3,
   "metadata": {},
   "outputs": [
    {
     "name": "stdout",
     "output_type": "stream",
     "text": [
      "成员函数只能由实例调用\n",
      "这是啥？ 这是个类变量 Everything is an object\n",
      "这是啥？ 这是个类变量 Everything is an object\n",
      "这是啥？ 这是个类变量 Everything is an object\n",
      "这是啥？ 这是个类变量 Everything is an object\n"
     ]
    }
   ],
   "source": [
    "try:\n",
    "    duck.func1()\n",
    "except:\n",
    "    print('成员函数只能由实例调用')\n",
    "instance.static_fun(\"这是啥？\")\n",
    "duck.static_fun(\"这是啥？\")\n",
    "instance.cls_fun(\"这是啥？\")\n",
    "duck.cls_fun(\"这是啥？\")"
   ]
  },
  {
   "cell_type": "markdown",
   "metadata": {},
   "source": [
    "### 私有变量（私有成员函数同理）和保护变量"
   ]
  },
  {
   "cell_type": "code",
   "execution_count": 4,
   "metadata": {},
   "outputs": [
    {
     "name": "stdout",
     "output_type": "stream",
     "text": [
      "You cannot access a PRIVATE variable. It's a secret\n"
     ]
    }
   ],
   "source": [
    "#私有变量仅本类可访问，保护变量仅本类和子类可以访问\n",
    "try:\n",
    "    print(__oop)\n",
    "except:\n",
    "    print(\"You cannot access a PRIVATE variable. It's a secret\")"
   ]
  },
  {
   "cell_type": "markdown",
   "metadata": {},
   "source": [
    "### @Property"
   ]
  },
  {
   "cell_type": "code",
   "execution_count": 5,
   "metadata": {},
   "outputs": [
    {
     "name": "stdout",
     "output_type": "stream",
     "text": [
      "Everything is an object\n",
      "<property object at 0x00000105C7C54E58>\n",
      "OK\n",
      "yes, you're right\n"
     ]
    }
   ],
   "source": [
    "#property让方法可以像属性一样调用\n",
    "print(instance.oop)\n",
    "print(duck.oop)\n",
    "instance.oop = \"yes, you're right\"\n",
    "print(instance.oop)"
   ]
  },
  {
   "cell_type": "markdown",
   "metadata": {},
   "source": [
    "### 继承和多态（重载&覆盖）"
   ]
  },
  {
   "cell_type": "code",
   "execution_count": 24,
   "metadata": {},
   "outputs": [
    {
     "name": "stdout",
     "output_type": "stream",
     "text": [
      "0\n",
      "这是个类变量 这是个类变量\n",
      "访问成员变量一定要有self\n"
     ]
    }
   ],
   "source": [
    "class egg(duck):\n",
    "    \n",
    "#     def func1(self):\n",
    "#         print(\"I am no longer that 'func1'\")\n",
    "    pass\n",
    "\n",
    "instance2 = egg(0)\n",
    "instance2.func1()"
   ]
  }
 ],
 "metadata": {
  "kernelspec": {
   "display_name": "Python 3",
   "language": "python",
   "name": "python3"
  },
  "language_info": {
   "codemirror_mode": {
    "name": "ipython",
    "version": 3
   },
   "file_extension": ".py",
   "mimetype": "text/x-python",
   "name": "python",
   "nbconvert_exporter": "python",
   "pygments_lexer": "ipython3",
   "version": "3.6.3"
  }
 },
 "nbformat": 4,
 "nbformat_minor": 2
}
