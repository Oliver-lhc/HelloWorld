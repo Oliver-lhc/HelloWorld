{
 "cells": [
  {
   "cell_type": "code",
   "execution_count": 28,
   "metadata": {},
   "outputs": [],
   "source": [
    "import random"
   ]
  },
  {
   "cell_type": "code",
   "execution_count": 32,
   "metadata": {},
   "outputs": [],
   "source": [
    "def crossover(pop, Pc):\n",
    "    \"\"\"\n",
    "    种群中两个染色体间有一定几率发送交叉互换\n",
    "    \"\"\"\n",
    "    for i in range(len(pop)-1):\n",
    "        rand = random.random()\n",
    "        if rand < Pc:\n",
    "            point = random.randrange(0, len(pop[i]))   #随机产生发生交叉互换的点位\n",
    "            \n",
    "            temp = pop[i][point:]\n",
    "            pop[i] = pop[i][:point] + pop[i+1][point:]\n",
    "            pop[i+1] = pop[i+1][:point] + temp\n",
    "            \n",
    "    return pop"
   ]
  },
  {
   "cell_type": "code",
   "execution_count": 31,
   "metadata": {},
   "outputs": [
    {
     "name": "stdout",
     "output_type": "stream",
     "text": [
      "0\n",
      "[1, 1, 1, 0, 1, 0, 1, 0, 0, 0] \n",
      " [0, 1, 0, 1, 1, 0, 0, 1, 0, 0]\n",
      "4\n",
      "[1, 1, 1, 0, 1, 0, 0, 1, 0, 0] \n",
      " [0, 1, 0, 1, 1, 0, 1, 0, 0, 0]\n",
      "1\n",
      "[0, 1, 0, 1, 1, 0, 1, 0, 0, 0] \n",
      " [0, 1, 0, 1, 1, 0, 0, 1, 0, 0]\n",
      "2\n",
      "[0, 1, 0, 1, 1, 0, 0, 1, 0, 0] \n",
      " [0, 1, 0, 1, 1, 0, 1, 0, 0, 0]\n",
      "2\n",
      "[0, 1, 0, 1, 1, 0, 1, 0, 0, 0] \n",
      " [1, 1, 1, 0, 1, 0, 1, 0, 0, 0]\n",
      "6\n",
      "[0, 1, 0, 1, 1, 0, 1, 0, 0, 0] \n",
      " [1, 1, 1, 0, 1, 0, 1, 0, 0, 0]\n",
      "3\n",
      "4\n",
      "[[1, 1, 1, 0, 1, 0, 0, 1, 0, 0], [0, 1, 0, 1, 1, 0, 0, 1, 0, 0], [0, 1, 0, 1, 1, 0, 1, 0, 0, 0], [1, 1, 1, 0, 1, 0, 1, 0, 0, 0], [1, 1, 1, 0, 1, 0, 1, 0, 0, 0], [0, 1, 0, 1, 1, 0, 0, 1, 0, 0]]\n"
     ]
    }
   ],
   "source": [
    "if __name__ == '__main__':\n",
    "    pop = [[1, 1, 1, 0, 1, 0, 1, 0, 0, 0], [0, 1, 0, 1, 1, 0, 0, 1, 0, 0], [0, 1, 0, 1, 1, 0, 0, 1, 0, 0], [1, 1, 1, 0, 1, 0, 1, 0, 0, 0], [1, 1, 1, 0, 1, 0, 1, 0, 0, 0], [0, 1, 0, 1, 1, 0, 0, 1, 0, 0]]\n",
    "    Pc = 0.7\n",
    "    pop = crossover(pop, Pc)\n",
    "    print(pop)"
   ]
  }
 ],
 "metadata": {
  "kernelspec": {
   "display_name": "Python 3",
   "language": "python",
   "name": "python3"
  },
  "language_info": {
   "codemirror_mode": {
    "name": "ipython",
    "version": 3
   },
   "file_extension": ".py",
   "mimetype": "text/x-python",
   "name": "python",
   "nbconvert_exporter": "python",
   "pygments_lexer": "ipython3",
   "version": "3.6.3"
  }
 },
 "nbformat": 4,
 "nbformat_minor": 2
}
