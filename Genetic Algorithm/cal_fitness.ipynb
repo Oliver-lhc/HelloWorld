{
 "cells": [
  {
   "cell_type": "code",
   "execution_count": 2,
   "metadata": {},
   "outputs": [],
   "source": [
    "def cal_fitness(value, c_min):\n",
    "    \"\"\"\n",
    "    if value > c_min:\n",
    "        function_fitness = value - c_min\n",
    "    else:\n",
    "        function_fitness = 0\n",
    "    \"\"\"\n",
    "    fitness = []\n",
    "    for x in value:\n",
    "        temp = x - c_min\n",
    "        if temp > 0:\n",
    "            fitness.append(temp)\n",
    "        else:\n",
    "            fitness.append(0)\n",
    "        \n",
    "    return fitness"
   ]
  },
  {
   "cell_type": "code",
   "execution_count": 3,
   "metadata": {},
   "outputs": [
    {
     "name": "stdout",
     "output_type": "stream",
     "text": [
      "[7.0, 0, 19.508821274832137, 10.430670649470379, 22.521907434204685, 0]\n"
     ]
    }
   ],
   "source": [
    "if __name__ == '__main__':\n",
    "    c_min = 0\n",
    "    value = [7.0, -2.219620009720277, 19.508821274832137, 10.430670649470379, 22.521907434204685, -14.17171644859186]\n",
    "    fitness = cal_fitness(value, c_min)\n",
    "    print(fitness)"
   ]
  }
 ],
 "metadata": {
  "kernelspec": {
   "display_name": "Python 3",
   "language": "python",
   "name": "python3"
  },
  "language_info": {
   "codemirror_mode": {
    "name": "ipython",
    "version": 3
   },
   "file_extension": ".py",
   "mimetype": "text/x-python",
   "name": "python",
   "nbconvert_exporter": "python",
   "pygments_lexer": "ipython3",
   "version": "3.6.3"
  }
 },
 "nbformat": 4,
 "nbformat_minor": 2
}
