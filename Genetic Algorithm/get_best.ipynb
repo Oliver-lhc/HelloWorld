{
 "cells": [
  {
   "cell_type": "code",
   "execution_count": 2,
   "metadata": {},
   "outputs": [],
   "source": [
    "import numpy as np"
   ]
  },
  {
   "cell_type": "code",
   "execution_count": 3,
   "metadata": {},
   "outputs": [],
   "source": [
    "def get_best(fitness, X, value):\n",
    "    \"\"\"\n",
    "    numpy 有直接对数组排序并获得索引的函数\n",
    "    \"\"\"\n",
    "    temp = np.array(fitness)\n",
    "    temp1 = temp.argsort()\n",
    "    ix = temp1[-1]\n",
    "    \n",
    "    return X[ix], value[ix]\n",
    "    "
   ]
  },
  {
   "cell_type": "code",
   "execution_count": 4,
   "metadata": {},
   "outputs": [],
   "source": [
    "if __name__ == '__main__':\n",
    "    fitness = [12.98077942013126, 0, 0.18689240932926743, 3.323598779066292, 0]\n",
    "    X = [9.149560117302054, 11.085043988269796, 14.47702834799609, 17.956989247311828, 25.90420332355816]\n",
    "    value = [12.98077942013126, -2.459478728225611, 0.18689240932926743, 3.323598779066292, -13.550719524005489]\n",
    "    x, y = get_best(fitness, X, value)"
   ]
  }
 ],
 "metadata": {
  "kernelspec": {
   "display_name": "Python 3",
   "language": "python",
   "name": "python3"
  },
  "language_info": {
   "codemirror_mode": {
    "name": "ipython",
    "version": 3
   },
   "file_extension": ".py",
   "mimetype": "text/x-python",
   "name": "python",
   "nbconvert_exporter": "python",
   "pygments_lexer": "ipython3",
   "version": "3.6.3"
  }
 },
 "nbformat": 4,
 "nbformat_minor": 2
}
