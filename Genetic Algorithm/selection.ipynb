{
 "cells": [
  {
   "cell_type": "code",
   "execution_count": 4,
   "metadata": {},
   "outputs": [],
   "source": [
    "import numpy as np\n",
    "import random"
   ]
  },
  {
   "cell_type": "code",
   "execution_count": 5,
   "metadata": {},
   "outputs": [],
   "source": [
    "def select(pop, pop_size, fitness):\n",
    "    \"\"\"\n",
    "    采用了轮盘赌法，随机生成适应度之和以内的数\n",
    "    第一个适应度大于随机数的染色体被选中\n",
    "    \"\"\"\n",
    "    temp1 = np.array(fitness)\n",
    "    cum = np.cumsum(temp1)\n",
    "    newpop = []\n",
    "    for count in range(pop_size):\n",
    "        temp2 = cum[-1]\n",
    "        rand = random.uniform(0, temp2)\n",
    "        for i in range(len(cum)):\n",
    "            if cum[i] >= rand:\n",
    "                newpop.append(pop[i])\n",
    "                break\n",
    "    \n",
    "    return newpop"
   ]
  },
  {
   "cell_type": "code",
   "execution_count": 6,
   "metadata": {},
   "outputs": [
    {
     "name": "stdout",
     "output_type": "stream",
     "text": [
      "[[1, 1, 1, 0, 1], [1, 1, 1, 0, 1], [1, 1, 0, 0, 0], [1, 1, 1, 0, 1], [1, 1, 1, 0, 1], [1, 1, 0, 0, 0]]\n"
     ]
    }
   ],
   "source": [
    "if __name__ == '__main__':\n",
    "    pop_size = 6\n",
    "    pop = [[0, 0, 0, 0, 0], [1, 1, 0, 1, 1], [1, 1, 1, 0, 1], [1, 0, 1, 0, 1], [1, 1, 0, 0, 0], [0, 0, 0, 1, 1]]\n",
    "    fitness = [7.0, 0, 19.508821274832137, 10.430670649470379, 22.521907434204685, 0]\n",
    "    pop = select(pop, pop_size, fitness)\n",
    "    print(pop)"
   ]
  }
 ],
 "metadata": {
  "kernelspec": {
   "display_name": "Python 3",
   "language": "python",
   "name": "python3"
  },
  "language_info": {
   "codemirror_mode": {
    "name": "ipython",
    "version": 3
   },
   "file_extension": ".py",
   "mimetype": "text/x-python",
   "name": "python",
   "nbconvert_exporter": "python",
   "pygments_lexer": "ipython3",
   "version": "3.6.3"
  }
 },
 "nbformat": 4,
 "nbformat_minor": 2
}
