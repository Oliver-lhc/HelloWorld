{
 "cells": [
  {
   "cell_type": "code",
   "execution_count": 5,
   "metadata": {},
   "outputs": [],
   "source": [
    "import random"
   ]
  },
  {
   "cell_type": "code",
   "execution_count": 6,
   "metadata": {},
   "outputs": [],
   "source": [
    "def gene_encoding(pop_size, gene_length):\n",
    "    \"\"\"\n",
    "    Generate genes in random\n",
    "    \"\"\"\n",
    "    pop = []\n",
    "    for i in range(pop_size):\n",
    "        temp = []\n",
    "        for j in range(gene_length):\n",
    "            temp.append(random.randint(0,1))    # 随机初始化二进制数\n",
    "        pop.append(temp)\n",
    "    \n",
    "    return pop"
   ]
  },
  {
   "cell_type": "code",
   "execution_count": 7,
   "metadata": {},
   "outputs": [
    {
     "name": "stdout",
     "output_type": "stream",
     "text": [
      "[[0, 0, 0, 0, 0], [1, 1, 0, 1, 1], [1, 1, 1, 0, 1], [1, 0, 1, 0, 1], [1, 1, 0, 0, 0], [0, 0, 0, 1, 1]]\n"
     ]
    }
   ],
   "source": [
    "if __name__ == '__main__':\n",
    "    pop_size = 6\n",
    "    gene_length = 5\n",
    "    pop = gene_encoding(pop_size, gene_length)\n",
    "    print(pop)"
   ]
  }
 ],
 "metadata": {
  "kernelspec": {
   "display_name": "Python 3",
   "language": "python",
   "name": "python3"
  },
  "language_info": {
   "codemirror_mode": {
    "name": "ipython",
    "version": 3
   },
   "file_extension": ".py",
   "mimetype": "text/x-python",
   "name": "python",
   "nbconvert_exporter": "python",
   "pygments_lexer": "ipython3",
   "version": "3.6.3"
  }
 },
 "nbformat": 4,
 "nbformat_minor": 2
}
