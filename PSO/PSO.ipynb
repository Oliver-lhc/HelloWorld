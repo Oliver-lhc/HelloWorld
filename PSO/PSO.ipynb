{
 "cells": [
  {
   "cell_type": "code",
   "execution_count": 3,
   "metadata": {},
   "outputs": [],
   "source": [
    "import random\n",
    "import math\n",
    "import numpy as np\n",
    "import matplotlib.pyplot as plt"
   ]
  },
  {
   "cell_type": "code",
   "execution_count": 4,
   "metadata": {},
   "outputs": [],
   "source": [
    "dimension = 1\n",
    "popsize = 100\n",
    "generation = 50\n",
    "xmax, xmin = 9, 0\n",
    "vmax, vmin = 9, -9\n",
    "c1, c2 = 1.8, 1.8\n",
    "w, wmax, wmin = 0.9, 0.9, 0.4\n",
    "\n",
    "pbest_x = []\n",
    "pbest_y = []\n",
    "gbest_x = []\n",
    "gbest_y = []\n",
    "best_fit = 0"
   ]
  },
  {
   "cell_type": "code",
   "execution_count": 5,
   "metadata": {},
   "outputs": [],
   "source": [
    "def initial(popsize, dimension, xmax, xmin):\n",
    "    \"\"\"\n",
    "    初始化种群和初始速度\n",
    "    \"\"\"\n",
    "    pop = [[random.uniform(xmin, xmax) for i in range(dimension)] for j in range(popsize)]\n",
    "    v = [[0.01 * random.random() for i in range(dimension)] for j in range(popsize)]\n",
    "    return pop, v"
   ]
  },
  {
   "cell_type": "code",
   "execution_count": 6,
   "metadata": {},
   "outputs": [],
   "source": [
    "def cal_fit(pop):\n",
    "    \"\"\"\n",
    "    计算种群中每个个体对应的函数值和适应度\n",
    "    \"\"\"\n",
    "    fitness = []\n",
    "    value = []\n",
    "    for i in range(len(pop)):\n",
    "        x = pop[i][0]                                     #由于目标函数是一元函数，无需遍历\n",
    "        temp = -(x + 10 * math.sin(5 * x) + 7 * math.cos(4 * x)) #要求最小值，适应度应加负号\n",
    "        value.append(-temp)\n",
    "        fit = float('inf')\n",
    "        fit = 1 / (math.pow(math.e, -temp) + 1)            #利用sigmoid函数将适应度映射到[0,1]\n",
    "        fitness.append(fit)\n",
    "    return value, fitness"
   ]
  },
  {
   "cell_type": "code",
   "execution_count": 7,
   "metadata": {},
   "outputs": [],
   "source": [
    "def get_best(pop, value, fitness, pbest_x, pbest_y, gbest_x, gbest_y, best_fit):\n",
    "    \"\"\"\n",
    "    获取最大适应度及其对应的横纵坐标\n",
    "    \"\"\"\n",
    "    temp1= np.array(fitness)\n",
    "    temp2 = temp1.argsort()\n",
    "    ix = temp2[-1]\n",
    "    pbest_x.append(pop[ix])\n",
    "    pbest_y.append(value[ix])\n",
    "    if fitness[ix] > best_fit:\n",
    "        best_fit = fitness[ix]\n",
    "        gbest_x = pop[ix]\n",
    "        gbest_y = value[ix]\n",
    "    return pbest_x, pbest_y, gbest_x, gbest_y, best_fit"
   ]
  },
  {
   "cell_type": "code",
   "execution_count": 8,
   "metadata": {},
   "outputs": [],
   "source": [
    "def w_update(wmax, wmin, t, generation):\n",
    "    \"\"\"\n",
    "    利用线性下降方法对w进行处理，在初期w较大，适合大范围寻找最优值\n",
    "    后期w较小，适合小范围寻找最优值\n",
    "    \"\"\"\n",
    "    w = wmax - (wmax - wmin) * t / generation\n",
    "    return w"
   ]
  },
  {
   "cell_type": "code",
   "execution_count": 9,
   "metadata": {},
   "outputs": [],
   "source": [
    "def v_update(v, w, c1, c2, pbest_x, gbest_x, vmax, vmin):\n",
    "    \"\"\"\n",
    "    对速度进行更新\n",
    "    \"\"\"\n",
    "    r1 = random.random()\n",
    "    r2 = random.random()\n",
    "    for i in range(len(pop)):\n",
    "        for j in range(len(pop[i])):\n",
    "            temp1 = w * v[i][j]\n",
    "            temp2 = c1 * r1 *(pbest_x[-1][j] - pop[i][j])\n",
    "            temp3 = c2 * r2 *(gbest_x[j] - pop[i][j])\n",
    "            v[i][j] = temp1 + temp2 + temp3\n",
    "            if v[i][j] > vmax:\n",
    "                v[i][j] = vmax\n",
    "            if v[i][j] < vmin:\n",
    "                v[i][j] = vmin\n",
    "    return v"
   ]
  },
  {
   "cell_type": "code",
   "execution_count": 10,
   "metadata": {},
   "outputs": [],
   "source": [
    "def pop_update(pop, v, xmax, xmin):\n",
    "    \"\"\"\n",
    "    对位置进行更新\n",
    "    \"\"\"\n",
    "    newpop = []         #列表是可变对象，如果在原pop上改动会影响之前的计算结果\n",
    "    for i in range(len(pop)):\n",
    "        temp = []\n",
    "        for j in range(len(pop[i])):\n",
    "            temp.append(pop[i][j] + v[i][j])\n",
    "            if temp[j] > xmax:\n",
    "                temp[j] = xmax\n",
    "            if temp[j] < xmin:\n",
    "                temp[j] = xmin\n",
    "        newpop.append(temp)\n",
    "    return newpop"
   ]
  },
  {
   "cell_type": "code",
   "execution_count": 11,
   "metadata": {
    "scrolled": true
   },
   "outputs": [],
   "source": [
    "pop, v = initial(popsize, dimension, xmax, xmin)\n",
    "# print(pop)\n",
    "# print(v)"
   ]
  },
  {
   "cell_type": "code",
   "execution_count": 12,
   "metadata": {},
   "outputs": [
    {
     "name": "stdout",
     "output_type": "stream",
     "text": [
      "[0.89172403694657] -15.164402119604219\n"
     ]
    }
   ],
   "source": [
    "for t in range(generation):\n",
    "\n",
    "    value, fitness = cal_fit(pop)\n",
    "    pbest_x, pbest_y, gbest_x, gbest_y, best_fit = get_best(pop, value, fitness, pbest_x,\n",
    "                                                            pbest_y, gbest_x, gbest_y, best_fit)\n",
    "    w = w_update(wmax, wmin, t, generation)\n",
    "    v = v_update(v, w, c1, c2, pbest_x, gbest_x, vmax, vmin)\n",
    "    pop = pop_update(pop, v, xmax, xmin)         \n",
    "    \n",
    "print(gbest_x, gbest_y)"
   ]
  },
  {
   "cell_type": "code",
   "execution_count": 13,
   "metadata": {},
   "outputs": [
    {
     "data": {
      "text/plain": [
       "[<matplotlib.lines.Line2D at 0x170e1113358>]"
      ]
     },
     "execution_count": 13,
     "metadata": {},
     "output_type": "execute_result"
    },
    {
     "data": {
      "image/png": "[encoded data removed]",
      "text/plain": [
       "<matplotlib.figure.Figure at 0x170e0dc4eb8>"
      ]
     },
     "metadata": {},
     "output_type": "display_data"
    }
   ],
   "source": [
    "x = list(range(generation))\n",
    "plt.plot(x, pbest_y)"
   ]
  }
 ],
 "metadata": {
  "kernelspec": {
   "display_name": "Python 3",
   "language": "python",
   "name": "python3"
  },
  "language_info": {
   "codemirror_mode": {
    "name": "ipython",
    "version": 3
   },
   "file_extension": ".py",
   "mimetype": "text/x-python",
   "name": "python",
   "nbconvert_exporter": "python",
   "pygments_lexer": "ipython3",
   "version": "3.6.3"
  }
 },
 "nbformat": 4,
 "nbformat_minor": 2
}
