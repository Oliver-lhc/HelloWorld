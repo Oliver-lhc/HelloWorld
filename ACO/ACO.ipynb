{
 "cells": [
  {
   "cell_type": "code",
   "execution_count": 1,
   "metadata": {},
   "outputs": [],
   "source": [
    "import numpy as np"
   ]
  },
  {
   "cell_type": "code",
   "execution_count": 2,
   "metadata": {},
   "outputs": [],
   "source": [
    "city = [1, 1.5, 2, 2.5]\n",
    "n = len(city)\n",
    "P = np.empty((n,n))"
   ]
  },
  {
   "cell_type": "code",
   "execution_count": 3,
   "metadata": {},
   "outputs": [
    {
     "name": "stdout",
     "output_type": "stream",
     "text": [
      "[[ 0.          0.25        0.33333333  0.41666667]\n",
      " [ 0.18181818  0.          0.36363636  0.45454545]\n",
      " [ 0.2         0.3         0.          0.5       ]\n",
      " [ 0.22222222  0.33333333  0.44444444  0.        ]]\n"
     ]
    }
   ],
   "source": [
    "for i in range(n):\n",
    "    for j in range(n):\n",
    "        if i == j:\n",
    "            P[i][j] = 0\n",
    "        else:\n",
    "            P[i][j] = city[j] / (sum(city) - city[i])\n",
    "print(P)"
   ]
  }
 ],
 "metadata": {
  "kernelspec": {
   "display_name": "Python 3",
   "language": "python",
   "name": "python3"
  },
  "language_info": {
   "codemirror_mode": {
    "name": "ipython",
    "version": 3
   },
   "file_extension": ".py",
   "mimetype": "text/x-python",
   "name": "python",
   "nbconvert_exporter": "python",
   "pygments_lexer": "ipython3",
   "version": "3.6.3"
  }
 },
 "nbformat": 4,
 "nbformat_minor": 2
}
